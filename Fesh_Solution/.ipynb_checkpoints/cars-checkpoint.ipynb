{
 "cells": [
  {
   "cell_type": "code",
   "execution_count": 1,
   "metadata": {},
   "outputs": [],
   "source": [
    "import pandas as pd\n",
    "from collections import Counter\n",
    "import random"
   ]
  },
  {
   "cell_type": "code",
   "execution_count": 2,
   "metadata": {},
   "outputs": [],
   "source": [
    "#Read cars and makers files into dfs\n",
    "df = pd.read_csv('cars.txt', delimiter='\\n', encoding='latin-1', header=None)\n",
    "df1 = pd.read_csv('makers1.txt', delimiter='\\n', encoding='latin-1', header=None)"
   ]
  },
  {
   "cell_type": "code",
   "execution_count": 3,
   "metadata": {},
   "outputs": [],
   "source": [
    "#chnage their col names\n",
    "df.columns = ['cars']\n",
    "df1.columns = ['makers']"
   ]
  },
  {
   "cell_type": "code",
   "execution_count": 28,
   "metadata": {},
   "outputs": [],
   "source": [
    "#make list of lower cases of all removing trailing spaces after taking a split at the equal sign\n",
    "makers = [line.split('=')[-1].lower().strip().replace(' ','') for line in df1.makers]\n",
    "cars = [line.split()[1].lower().replace('=', '') for line in df.cars]"
   ]
  },
  {
   "cell_type": "code",
   "execution_count": 29,
   "metadata": {},
   "outputs": [
    {
     "data": {
      "text/plain": [
       "True"
      ]
     },
     "execution_count": 29,
     "metadata": {},
     "output_type": "execute_result"
    }
   ],
   "source": [
    "#Confirm matching lengths\n",
    "len(makers) == len(cars)"
   ]
  },
  {
   "cell_type": "code",
   "execution_count": 30,
   "metadata": {},
   "outputs": [],
   "source": [
    "#shuffle the makers list just to make sure\n",
    "random.shuffle(makers)"
   ]
  },
  {
   "cell_type": "code",
   "execution_count": 31,
   "metadata": {},
   "outputs": [
    {
     "data": {
      "text/plain": [
       "51"
      ]
     },
     "execution_count": 31,
     "metadata": {},
     "output_type": "execute_result"
    }
   ],
   "source": [
    "#see that lenght matches expected number\n",
    "len(cars)"
   ]
  },
  {
   "cell_type": "code",
   "execution_count": 32,
   "metadata": {},
   "outputs": [
    {
     "name": "stdout",
     "output_type": "stream",
     "text": [
      "No match for 'esedrmcde'\n"
     ]
    }
   ],
   "source": [
    "ordered = []\n",
    "for car in cars:\n",
    "    c = Counter(car)\n",
    "    for maker in makers:\n",
    "        m = Counter(maker)\n",
    "        if sorted(c.keys()) == sorted(m.keys()): #compare a sorted list of keys\n",
    "            if sorted(c.values()) == sorted(m.values()):#ditto for values\n",
    "                ordered.append(maker)\n",
    "            else:\n",
    "                print(\"No match for '{}'\".format(car))"
   ]
  },
  {
   "cell_type": "markdown",
   "metadata": {},
   "source": [
    "## Motivation for Solution\n",
    "- Counter gets number of occurences of items in an array\n",
    "- Let's demo"
   ]
  },
  {
   "cell_type": "code",
   "execution_count": 39,
   "metadata": {},
   "outputs": [
    {
     "data": {
      "text/plain": [
       "[1, 1, 1, 1, 2, 3]"
      ]
     },
     "execution_count": 39,
     "metadata": {},
     "output_type": "execute_result"
    }
   ],
   "source": [
    "sorted(Counter(cars[23]).values())"
   ]
  },
  {
   "cell_type": "code",
   "execution_count": 41,
   "metadata": {},
   "outputs": [
    {
     "data": {
      "text/plain": [
       "[1, 1, 1, 1, 1, 3]"
      ]
     },
     "execution_count": 41,
     "metadata": {},
     "output_type": "execute_result"
    }
   ],
   "source": [
    "sorted(Counter(makers[23]).values())"
   ]
  },
  {
   "cell_type": "code",
   "execution_count": 47,
   "metadata": {},
   "outputs": [
    {
     "data": {
      "text/plain": [
       "49"
      ]
     },
     "execution_count": 47,
     "metadata": {},
     "output_type": "execute_result"
    }
   ],
   "source": [
    "len(ordered)"
   ]
  },
  {
   "cell_type": "code",
   "execution_count": 35,
   "metadata": {},
   "outputs": [
    {
     "name": "stdout",
     "output_type": "stream",
     "text": [
      "mercedes\n"
     ]
    }
   ],
   "source": [
    "#How many matches were missed\n",
    "for line in makers:\n",
    "    if not line in ordered:\n",
    "        print(line)"
   ]
  },
  {
   "cell_type": "code",
   "execution_count": 199,
   "metadata": {},
   "outputs": [],
   "source": [
    "# from collections import Counter\n",
    "\n",
    "# def validWord(word, letterList):\n",
    "#     word2, word1 = Counter(word), Counter(letterList)\n",
    "#     return all(word2[k] <= word1.get(k, 0) for k in word2)\n",
    "\n",
    "# print(validWord(\"test\", [\"t\", \"a\", \"e\", \"s\"]))  # False)\n",
    "# print(validWord(\"test\", [\"t\", \"e\", \"t\", \"s\", \"c\"])) # True)"
   ]
  },
  {
   "cell_type": "code",
   "execution_count": 36,
   "metadata": {},
   "outputs": [],
   "source": [
    "#Old Solution\n",
    "# from collections import Counter\n",
    "\n",
    "# def validWord(word, letterList):\n",
    "#     word2, word1 = Counter(word), Counter(letterList)\n",
    "#     return all(word2[k] <= word1.get(k, 0) for k in word2)\n",
    "\n",
    "# da_list = {}\n",
    "# for car in cars:\n",
    "#     for make in makers:\n",
    "#         x = [line for line in make]\n",
    "#         if len(car) == len(x):\n",
    "#             if validWord(car, x):\n",
    "#                 da_list[car] = ''.join(x)\n",
    "\n",
    "# for item in da_list.items():\n",
    "#     print(\"{} == {}\".format(item[0], item[1]))"
   ]
  }
 ],
 "metadata": {
  "kernelspec": {
   "display_name": "Python 3",
   "language": "python",
   "name": "python3"
  },
  "language_info": {
   "codemirror_mode": {
    "name": "ipython",
    "version": 3
   },
   "file_extension": ".py",
   "mimetype": "text/x-python",
   "name": "python",
   "nbconvert_exporter": "python",
   "pygments_lexer": "ipython3",
   "version": "3.7.4"
  }
 },
 "nbformat": 4,
 "nbformat_minor": 2
}
