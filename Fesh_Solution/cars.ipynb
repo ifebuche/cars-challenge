{
 "cells": [
  {
   "cell_type": "code",
   "execution_count": 1,
   "metadata": {},
   "outputs": [],
   "source": [
    "import pandas as pd\n",
    "from collections import Counter\n",
    "import random"
   ]
  },
  {
   "cell_type": "code",
   "execution_count": 2,
   "metadata": {},
   "outputs": [],
   "source": [
    "#Read cars and makers files into dfs\n",
    "df = pd.read_csv('cars.txt', delimiter='\\n', encoding='latin-1', header=None)\n",
    "df1 = pd.read_csv('makers1.txt', delimiter='\\n', encoding='latin-1', header=None)"
   ]
  },
  {
   "cell_type": "code",
   "execution_count": 3,
   "metadata": {},
   "outputs": [],
   "source": [
    "#chnage their col names\n",
    "df.columns = ['cars']\n",
    "df1.columns = ['makers']"
   ]
  },
  {
   "cell_type": "code",
   "execution_count": 4,
   "metadata": {},
   "outputs": [],
   "source": [
    "#make list of lower cases of all removing trailing spaces after taking a split at the equal sign\n",
    "makers = [line.split('=')[-1].lower().strip().replace(' ','') for line in df1.makers]\n",
    "cars = [line.split()[1].lower().replace('=', '') for line in df.cars]"
   ]
  },
  {
   "cell_type": "code",
   "execution_count": 5,
   "metadata": {},
   "outputs": [
    {
     "data": {
      "text/plain": [
       "True"
      ]
     },
     "execution_count": 5,
     "metadata": {},
     "output_type": "execute_result"
    }
   ],
   "source": [
    "#Confirm matching lengths\n",
    "len(makers) == len(cars)"
   ]
  },
  {
   "cell_type": "code",
   "execution_count": 6,
   "metadata": {},
   "outputs": [],
   "source": [
    "#shuffle the makers list just to make sure\n",
    "random.shuffle(makers)"
   ]
  },
  {
   "cell_type": "code",
   "execution_count": 7,
   "metadata": {},
   "outputs": [
    {
     "data": {
      "text/plain": [
       "51"
      ]
     },
     "execution_count": 7,
     "metadata": {},
     "output_type": "execute_result"
    }
   ],
   "source": [
    "#see that lenght matches expected number\n",
    "len(cars)"
   ]
  },
  {
   "cell_type": "code",
   "execution_count": 8,
   "metadata": {},
   "outputs": [
    {
     "name": "stdout",
     "output_type": "stream",
     "text": [
      "No match for 'esedrmcde'\n"
     ]
    }
   ],
   "source": [
    "ordered = []\n",
    "for car in cars:\n",
    "    c = Counter(car)\n",
    "    for maker in makers:\n",
    "        m = Counter(maker)\n",
    "        if sorted(c.keys()) == sorted(m.keys()): #compare a sorted list of keys\n",
    "            if sorted(c.values()) == sorted(m.values()):#ditto for values\n",
    "                ordered.append(maker)\n",
    "            else:\n",
    "                print(\"No match for '{}'\".format(car))"
   ]
  },
  {
   "cell_type": "code",
   "execution_count": 9,
   "metadata": {},
   "outputs": [
    {
     "name": "stdout",
     "output_type": "stream",
     "text": [
      "mercedes\n"
     ]
    }
   ],
   "source": [
    "#Confirm how many matches were missed\n",
    "for line in makers:\n",
    "    if not line in ordered:\n",
    "        print(line)"
   ]
  },
  {
   "cell_type": "code",
   "execution_count": 10,
   "metadata": {},
   "outputs": [
    {
     "name": "stdout",
     "output_type": "stream",
     "text": [
      "etecrhlvo == chevrolet\n",
      "aksdo == skoda\n",
      "lpoe == opel\n",
      "idau == audi\n",
      "uzius == isuzu\n",
      "ucraa == acura\n",
      "rbsuau == subaru\n",
      "rgajua == jaguar\n",
      "peje == jeep\n",
      "azmad == mazda\n",
      "imni == mini\n",
      "dovlnarre == landrover\n",
      "slxeu == lexus\n",
      "basa == saab\n",
      "upetoge == peugeot\n",
      "utlarne == renault\n",
      "ontrpo == proton\n",
      "edwoao == daewoo\n",
      "tiocner == citroen\n",
      "gnoyagsns == ssangyong\n",
      "alicaldc == cadillac\n",
      "iatf == fiat\n",
      "rasontatnim == astonmartin\n",
      "nlacmer == mclaren\n",
      "tiiniifn == infiniti\n",
      "tsolu == lotus\n",
      "lneteby == bentley\n",
      "iratasme == maserati\n",
      "rfeiarr == ferrari\n",
      "dhnoa == honda\n",
      "snnsia == nissan\n",
      "aavlh == haval\n",
      "rfdo == ford\n",
      "olovv == volvo\n",
      "etsa == seat\n",
      "ytotao == toyota\n",
      "uodprea == perodua\n",
      "elgye == geely\n",
      "hsibusimit == mitsubishi\n",
      "ooemrfaal == alfaromeo\n",
      "haiatdus == dahitsau\n",
      "gneovsklwa == volkswagen\n",
      "cehsrpo == porsche\n",
      "niadyhu == hyundai\n",
      "itabgtu == bugatti\n",
      "mbalnihgroi == lamborghini\n",
      "crloseoryl == rollsroyce\n",
      "ikzsuu == suzuki\n",
      "saelt == tesla\n"
     ]
    }
   ],
   "source": [
    "#Print the matches deleting the missed match\n",
    "for c, o in zip(cars, ordered):\n",
    "    if c == 'esedrmcde':\n",
    "        x = cars.index('esedrmcde')\n",
    "        del cars[x]\n",
    "    else:\n",
    "        print(\"{} == {}\".format(c, o))"
   ]
  },
  {
   "cell_type": "markdown",
   "metadata": {},
   "source": [
    "## Motivation for Solution\n",
    "- Counter gets number of occurences of items in an array\n",
    "- Let's demo"
   ]
  },
  {
   "cell_type": "code",
   "execution_count": 11,
   "metadata": {},
   "outputs": [
    {
     "data": {
      "text/plain": [
       "[1, 1, 1, 1, 1]"
      ]
     },
     "execution_count": 11,
     "metadata": {},
     "output_type": "execute_result"
    }
   ],
   "source": [
    "sorted(Counter(cars[23]).values())"
   ]
  },
  {
   "cell_type": "code",
   "execution_count": 12,
   "metadata": {},
   "outputs": [
    {
     "data": {
      "text/plain": [
       "[1, 1, 1, 2, 2, 2]"
      ]
     },
     "execution_count": 12,
     "metadata": {},
     "output_type": "execute_result"
    }
   ],
   "source": [
    "sorted(Counter(makers[23]).values())"
   ]
  },
  {
   "cell_type": "code",
   "execution_count": 13,
   "metadata": {},
   "outputs": [
    {
     "data": {
      "text/plain": [
       "50"
      ]
     },
     "execution_count": 13,
     "metadata": {},
     "output_type": "execute_result"
    }
   ],
   "source": [
    "len(ordered)"
   ]
  },
  {
   "cell_type": "markdown",
   "metadata": {},
   "source": [
    "## Tests\n",
    "- One test"
   ]
  },
  {
   "cell_type": "code",
   "execution_count": 14,
   "metadata": {},
   "outputs": [],
   "source": [
    "import unittest"
   ]
  }
 ],
 "metadata": {
  "kernelspec": {
   "display_name": "Python 3",
   "language": "python",
   "name": "python3"
  },
  "language_info": {
   "codemirror_mode": {
    "name": "ipython",
    "version": 3
   },
   "file_extension": ".py",
   "mimetype": "text/x-python",
   "name": "python",
   "nbconvert_exporter": "python",
   "pygments_lexer": "ipython3",
   "version": "3.7.4"
  }
 },
 "nbformat": 4,
 "nbformat_minor": 2
}
